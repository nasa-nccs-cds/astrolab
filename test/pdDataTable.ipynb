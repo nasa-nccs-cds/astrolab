{
 "cells": [
  {
   "cell_type": "code",
   "execution_count": 2,
   "metadata": {},
   "outputs": [
    {
     "name": "stdout",
     "output_type": "stream",
     "text": [
      "Opened Dataset Autoencoder-16-ss5 from file ~/Development/Cache/swiftclass/Autoencoder-16-ss5.nc\n"
     ]
    },
    {
     "data": {
      "application/vnd.jupyter.widget-view+json": {
       "model_id": "daf447236a654bf1ac54087659da1c64",
       "version_major": 2,
       "version_minor": 0
      },
      "text/plain": [
       "QgridWidget(grid_options={'fullWidthRows': True, 'syncColumnCellResize': True, 'forceFitColumns': True, 'defau…"
      ]
     },
     "metadata": {},
     "output_type": "display_data"
    }
   ],
   "source": [
    "import qgrid\n",
    "from typing import List, Union, Tuple, Optional, Dict, Callable\n",
    "import time, logging\n",
    "import xarray as xa\n",
    "import pandas as pd\n",
    "from astrolab.data.manager import dataManager\n",
    "t0 = time.time()\n",
    "logger = logging.getLogger()\n",
    "\n",
    "def handle_selection_change( event, widget ):\n",
    "    logger.info( f\" selection_change: {event}\" )\n",
    "qgrid.on('selection_changed', handle_selection_change )\n",
    "\n",
    "table_cols = [ \"target_names\", \"obsids\" ]\n",
    "config = dict(\n",
    "    reduce = dict( method=\"Autoencoder\", dims=16, subsample=5 ),\n",
    "    data = dict( cache=\"~/Development/Cache\" ),\n",
    ")\n",
    "\n",
    "dataManager.initProject( 'swiftclass', 'read_data_test', config )\n",
    "dataManager.save()\n",
    "\n",
    "project_data: xa.Dataset = dataManager.loadCurrentProject()\n",
    "dropped_vars = [ vname for vname in project_data.data_vars if vname not in table_cols ]\n",
    "table_data = { tcol: project_data[tcol].values for tcol in table_cols }\n",
    "dataFrame: pd.DataFrame = pd.DataFrame( table_data, dtype='U' )\n",
    "logger.info(\"Created DataFrame\")\n",
    "\n",
    "col_opts = { 'editable': False }\n",
    "grid_opts = { 'editable': False }\n",
    "table = qgrid.show_grid( dataFrame, column_options=col_opts, grid_options=grid_opts, show_toolbar=False )\n",
    "\n",
    "table"
   ]
  },
  {
   "cell_type": "code",
   "execution_count": null,
   "metadata": {},
   "outputs": [],
   "source": []
  },
  {
   "cell_type": "code",
   "execution_count": null,
   "metadata": {},
   "outputs": [],
   "source": []
  }
 ],
 "metadata": {
  "kernelspec": {
   "display_name": "Python 3",
   "language": "python",
   "name": "python3"
  },
  "language_info": {
   "codemirror_mode": {
    "name": "ipython",
    "version": 3
   },
   "file_extension": ".py",
   "mimetype": "text/x-python",
   "name": "python",
   "nbconvert_exporter": "python",
   "pygments_lexer": "ipython3",
   "version": "3.7.8"
  }
 },
 "nbformat": 4,
 "nbformat_minor": 4
}